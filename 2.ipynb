{
  "nbformat": 4,
  "nbformat_minor": 0,
  "metadata": {
    "colab": {
      "provenance": []
    },
    "kernelspec": {
      "name": "python3",
      "display_name": "Python 3"
    },
    "language_info": {
      "name": "python"
    }
  },
  "cells": [
    {
      "cell_type": "markdown",
      "source": [
        "Simulasi Kasir"
      ],
      "metadata": {
        "id": "EKy5ljuo8ld5"
      }
    },
    {
      "cell_type": "code",
      "source": [
        "items=[\n",
        "    {\n",
        "    \"name\":\"Buku Tulis\",\n",
        "    \"price\": 2000\n",
        "},\n",
        "{\n",
        "    \"name\":\"Kotak Pensil\",\n",
        "    \"price\": 4500\n",
        "},\n",
        "{\n",
        "    \"name\":\"Spidol\",\n",
        "    \"price\": 3000\n",
        "},\n",
        "{\n",
        "    \"name\": \"Penggaris\",\n",
        "    \"price\": 1500\n",
        "},\n",
        "{\n",
        "    \"name\":\"Pena\",\n",
        "    \"price\": 1000\n",
        "}\n",
        "]\n",
        "nama= input (\"Namanya Siapa? \")\n",
        "item_dipilih=[]\n",
        "item_dipilih_all=[]\n",
        "\n",
        "for item in items:\n",
        "  item_dipilih_all.append(item[\"name\"])\n",
        "print(item_dipilih_all)\n",
        "\n",
        "while True:\n",
        "  pesanan=input(\"Mau Beli Apa? \")\n",
        "  if pesanan in item_dipilih_all:\n",
        "    item_dipilih.append(pesanan)\n",
        "  else:\n",
        "    print(\"Maaf pesanan tidak tersedia\")\n",
        "\n",
        "  print(\"Apakah Sudah Selesai? \")\n",
        "  done=input(\"Sudah/Belum \")\n",
        "\n",
        "  if done==\"Sudah\":\n",
        "    break\n",
        "\n",
        "print(item_dipilih)\n",
        "\n",
        "item_dipilih_price=[]\n",
        "for item in items:\n",
        "  if item[\"name\"] in item_dipilih:\n",
        "    item_dipilih_price.append(item[\"price\"])\n",
        "\n",
        "print(\"Total item yang dipilih= \"+str(len(item_dipilih)))\n",
        "print(\"Total yang harus dibayar \" + nama +\" adalah Rp. \"+ str(sum(item_dipilih_price)))"
      ],
      "metadata": {
        "colab": {
          "base_uri": "https://localhost:8080/"
        },
        "id": "FpnQq51_Mc2h",
        "outputId": "001ac51e-67f4-441b-cf44-7def665f991a"
      },
      "execution_count": 2,
      "outputs": [
        {
          "output_type": "stream",
          "name": "stdout",
          "text": [
            "Namanya Siapa? kia\n",
            "['Buku Tulis', 'Kotak Pensil', 'Spidol', 'Penggaris', 'Pena']\n",
            "Mau Beli Apa? Pena\n",
            "Apakah Sudah Selesai? \n",
            "Sudah/Belum Belum\n",
            "Mau Beli Apa? Penggaris\n",
            "Apakah Sudah Selesai? \n",
            "Sudah/Belum Belum\n",
            "Mau Beli Apa? Buku Tulis\n",
            "Apakah Sudah Selesai? \n",
            "Sudah/Belum Sudah\n",
            "['Pena', 'Penggaris', 'Buku Tulis']\n",
            "Total item yang dipilih= 3\n",
            "Total yang harus dibayar kia adalah Rp. 4500\n"
          ]
        }
      ]
    }
  ]
}