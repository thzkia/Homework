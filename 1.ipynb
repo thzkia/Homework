{
  "nbformat": 4,
  "nbformat_minor": 0,
  "metadata": {
    "colab": {
      "provenance": []
    },
    "kernelspec": {
      "name": "python3",
      "display_name": "Python 3"
    },
    "language_info": {
      "name": "python"
    }
  },
  "cells": [
    {
      "cell_type": "code",
      "source": [],
      "metadata": {
        "id": "cfD7HIQ5OH3D"
      },
      "execution_count": null,
      "outputs": []
    },
    {
      "cell_type": "markdown",
      "source": [
        "Homework 1"
      ],
      "metadata": {
        "id": "4cg_iUDv4HQw"
      }
    },
    {
      "cell_type": "code",
      "execution_count": 45,
      "metadata": {
        "colab": {
          "base_uri": "https://localhost:8080/"
        },
        "id": "4afvlgD62TFJ",
        "outputId": "2cc540c4-3dd9-413f-d2e5-fe74b1b8385a"
      },
      "outputs": [
        {
          "output_type": "stream",
          "name": "stdout",
          "text": [
            "[20, 40, 60, 80]\n"
          ]
        }
      ],
      "source": [
        "numbers=[4,5,10,20,40,60,80]\n",
        "\n",
        "new_list=[]\n",
        "for number in numbers:\n",
        "  if number >10:\n",
        "    new_list.append(number)\n",
        "\n",
        "print(new_list)"
      ]
    },
    {
      "cell_type": "markdown",
      "source": [
        "Homework 2"
      ],
      "metadata": {
        "id": "yUHKDow74K0Q"
      }
    },
    {
      "cell_type": "code",
      "source": [
        "def area_of_circle(r):\n",
        "  phi=3.14\n",
        "  area=phi*r*r\n",
        "  return area\n",
        "\n",
        "area_of_circle(6)"
      ],
      "metadata": {
        "colab": {
          "base_uri": "https://localhost:8080/"
        },
        "id": "J8HbfJMf4NSy",
        "outputId": "b35cef10-6ef4-44b5-9098-c32eaad121ef"
      },
      "execution_count": 56,
      "outputs": [
        {
          "output_type": "execute_result",
          "data": {
            "text/plain": [
              "113.03999999999999"
            ]
          },
          "metadata": {},
          "execution_count": 56
        }
      ]
    },
    {
      "cell_type": "markdown",
      "source": [
        "Homework 3"
      ],
      "metadata": {
        "id": "qT11BJaI6Pt_"
      }
    },
    {
      "cell_type": "code",
      "source": [
        "def addition(a,b):\n",
        "  result=a+b\n",
        "  return result\n",
        "\n",
        "addition(9,4)"
      ],
      "metadata": {
        "colab": {
          "base_uri": "https://localhost:8080/"
        },
        "id": "-zGmn2sUHijo",
        "outputId": "b99eac51-2235-4130-ba88-4792bcc895ad"
      },
      "execution_count": 57,
      "outputs": [
        {
          "output_type": "execute_result",
          "data": {
            "text/plain": [
              "13"
            ]
          },
          "metadata": {},
          "execution_count": 57
        }
      ]
    },
    {
      "cell_type": "code",
      "source": [
        "def multiplication(a,b):\n",
        "  result=a*b\n",
        "  return result\n",
        "\n",
        "multiplication(9,4)"
      ],
      "metadata": {
        "colab": {
          "base_uri": "https://localhost:8080/"
        },
        "id": "uatY9iii8CP8",
        "outputId": "c54515b8-601e-4048-f56b-ae708a61db14"
      },
      "execution_count": 58,
      "outputs": [
        {
          "output_type": "execute_result",
          "data": {
            "text/plain": [
              "36"
            ]
          },
          "metadata": {},
          "execution_count": 58
        }
      ]
    },
    {
      "cell_type": "code",
      "source": [
        "def highest(a,b):\n",
        "  result=max(a,b)\n",
        "  return result\n",
        "\n",
        "highest(9,4)\n"
      ],
      "metadata": {
        "colab": {
          "base_uri": "https://localhost:8080/"
        },
        "id": "8nAUuzPWoZMg",
        "outputId": "c2dcff1d-430f-4f91-9b86-648d81019401"
      },
      "execution_count": 59,
      "outputs": [
        {
          "output_type": "execute_result",
          "data": {
            "text/plain": [
              "9"
            ]
          },
          "metadata": {},
          "execution_count": 59
        }
      ]
    }
  ]
}